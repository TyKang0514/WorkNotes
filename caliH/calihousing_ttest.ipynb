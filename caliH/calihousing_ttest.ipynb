{
 "cells": [
  {
   "cell_type": "markdown",
   "id": "e64944c7-d114-4ea0-aacf-b08a75dfbbbc",
   "metadata": {
    "jp-MarkdownHeadingCollapsed": true
   },
   "source": [
    "### Get IMG"
   ]
  },
  {
   "cell_type": "code",
   "execution_count": 1,
   "id": "d0ece8a3-840b-46b6-9071-69447f46290c",
   "metadata": {},
   "outputs": [
    {
     "data": {
      "image/png": "[encoded data removed]",
      "text/plain": [
       "<Figure size 640x480 with 1 Axes>"
      ]
     },
     "metadata": {},
     "output_type": "display_data"
    }
   ],
   "source": [
    "import numpy as np\n",
    "import matplotlib.pyplot as plt\n",
    "\n",
    "# Data for normal curve\n",
    "x = np.linspace(-4, 4, 1000)\n",
    "mean = 0\n",
    "std_dev = 1\n",
    "y = (1 / (std_dev * np.sqrt(2 * np.pi))) * np.exp(-((x - mean)**2) / (2 * std_dev**2))\n",
    "\n",
    "# Plot\n",
    "plt.plot(x, y, color='black', linewidth=2)\n",
    "\n",
    "# Remove labels\n",
    "plt.xticks([])\n",
    "plt.yticks([])\n",
    "\n",
    "plt.xlabel('')\n",
    "plt.ylabel('')\n",
    "\n",
    "# No grid\n",
    "plt.grid(False)\n",
    "\n",
    "# Show\n",
    "plt.show()\n"
   ]
  },
  {
   "cell_type": "markdown",
   "id": "726c4477-20d5-4ada-9187-08f0f567512c",
   "metadata": {
    "jp-MarkdownHeadingCollapsed": true
   },
   "source": [
    "### Data Preparation"
   ]
  },
  {
   "cell_type": "code",
   "execution_count": 3,
   "id": "f6b2ace3-9a79-4085-947f-0dc90ba89b83",
   "metadata": {},
   "outputs": [],
   "source": [
    "import pandas as pd\n",
    "import numpy as np\n",
    "import matplotlib.pyplot as plt\n",
    "import seaborn as sns\n",
    "from scipy import stats\n",
    "import matplotlib.ticker as ticker\n",
    "\n",
    "df = pd.read_csv('data/housing.csv')\n"
   ]
  },
  {
   "cell_type": "code",
   "execution_count": 4,
   "id": "cc29fcd8-5e9d-4e37-b015-f2d74388ff3c",
   "metadata": {},
   "outputs": [
    {
     "data": {
      "text/html": [
       "<div>\n",
       "<style scoped>\n",
       "    .dataframe tbody tr th:only-of-type {\n",
       "        vertical-align: middle;\n",
       "    }\n",
       "\n",
       "    .dataframe tbody tr th {\n",
       "        vertical-align: top;\n",
       "    }\n",
       "\n",
       "    .dataframe thead th {\n",
       "        text-align: right;\n",
       "    }\n",
       "</style>\n",
       "<table border=\"1\" class=\"dataframe\">\n",
       "  <thead>\n",
       "    <tr style=\"text-align: right;\">\n",
       "      <th></th>\n",
       "      <th>ocean_proximity</th>\n",
       "      <th>median_house_value</th>\n",
       "    </tr>\n",
       "  </thead>\n",
       "  <tbody>\n",
       "    <tr>\n",
       "      <th>0</th>\n",
       "      <td>NEAR BAY</td>\n",
       "      <td>452600.0</td>\n",
       "    </tr>\n",
       "    <tr>\n",
       "      <th>1</th>\n",
       "      <td>NEAR BAY</td>\n",
       "      <td>358500.0</td>\n",
       "    </tr>\n",
       "    <tr>\n",
       "      <th>2</th>\n",
       "      <td>NEAR BAY</td>\n",
       "      <td>352100.0</td>\n",
       "    </tr>\n",
       "    <tr>\n",
       "      <th>3</th>\n",
       "      <td>NEAR BAY</td>\n",
       "      <td>341300.0</td>\n",
       "    </tr>\n",
       "    <tr>\n",
       "      <th>4</th>\n",
       "      <td>NEAR BAY</td>\n",
       "      <td>342200.0</td>\n",
       "    </tr>\n",
       "  </tbody>\n",
       "</table>\n",
       "</div>"
      ],
      "text/plain": [
       "  ocean_proximity  median_house_value\n",
       "0        NEAR BAY            452600.0\n",
       "1        NEAR BAY            358500.0\n",
       "2        NEAR BAY            352100.0\n",
       "3        NEAR BAY            341300.0\n",
       "4        NEAR BAY            342200.0"
      ]
     },
     "execution_count": 4,
     "metadata": {},
     "output_type": "execute_result"
    }
   ],
   "source": [
    "# Extract necessary columns\n",
    "df1 = df[['ocean_proximity', 'median_house_value']].copy()\n",
    "df1.head()"
   ]
  },
  {
   "cell_type": "code",
   "execution_count": 5,
   "id": "0fd25ffd-826b-4b44-aa9d-4424a35dffe4",
   "metadata": {},
   "outputs": [],
   "source": [
    "# Keep only needed columns\n",
    "df1 = df[['ocean_proximity', 'median_house_value']].copy()\n",
    "\n",
    "# Map values\n",
    "mapping = {\n",
    "    '<1H OCEAN': 'coastal',\n",
    "    'NEAR OCEAN': 'coastal',\n",
    "    'NEAR BAY': 'coastal',\n",
    "    'INLAND': 'inland'\n",
    "}\n",
    "\n",
    "# Apply mapping\n",
    "df1['region'] = df1['ocean_proximity'].map(mapping)\n",
    "\n",
    "# Drop rows with NaN (ISLAND)\n",
    "df1 = df1.dropna(subset=['region'])"
   ]
  },
  {
   "cell_type": "code",
   "execution_count": 6,
   "id": "2b2b546c-59de-426f-b408-1d1421960025",
   "metadata": {},
   "outputs": [],
   "source": [
    "# Calculate IQR\n",
    "Q1 = df1['median_house_value'].quantile(0.25)\n",
    "Q3 = df1['median_house_value'].quantile(0.75)\n",
    "IQR = Q3 - Q1\n",
    "\n",
    "# Define bounds\n",
    "lower_bound = Q1 - 1.5 * IQR\n",
    "upper_bound = Q3 + 1.5 * IQR\n",
    "\n",
    "# Remove Outliers\n",
    "df1 = df1[(df1['median_house_value'] >= lower_bound) & \n",
    "          (df1['median_house_value'] <= upper_bound)]\n"
   ]
  },
  {
   "cell_type": "markdown",
   "id": "62e52cc2-f976-44b2-8031-3cfc42a7d62b",
   "metadata": {
    "jp-MarkdownHeadingCollapsed": true
   },
   "source": [
    "### 1 sample t-test"
   ]
  },
  {
   "cell_type": "code",
   "execution_count": 7,
   "id": "671abd92-93c8-413f-b2ab-e77da5b8c727",
   "metadata": {},
   "outputs": [
    {
     "name": "stdout",
     "output_type": "stream",
     "text": [
      "T-statistic: 43.064\n",
      "P-value: 0.000\n"
     ]
    }
   ],
   "source": [
    "# Overall mean of median_house_value in df1\n",
    "overall_mean = df1['median_house_value'].mean()\n",
    "\n",
    "# Coastal housing prices\n",
    "coastal_prices = df1[df1['region'] == 'coastal']['median_house_value']\n",
    "\n",
    "# One-sample t-test: test if coastal mean differs from overall mean\n",
    "t_stat, p_value = stats.ttest_1samp(coastal_prices, overall_mean)\n",
    "\n",
    "print(f\"T-statistic: {t_stat:.3f}\")\n",
    "print(f\"P-value: {p_value:.3f}\")"
   ]
  },
  {
   "cell_type": "code",
   "execution_count": 31,
   "id": "d1775d97-f5c7-432c-a973-f029e8cedee0",
   "metadata": {},
   "outputs": [
    {
     "data": {
      "text/plain": [
       "(190803.848701697, 224701.1575316213)"
      ]
     },
     "execution_count": 31,
     "metadata": {},
     "output_type": "execute_result"
    }
   ],
   "source": [
    "overall_mean, coastal_prices.mean()"
   ]
  },
  {
   "cell_type": "code",
   "execution_count": 9,
   "id": "e59f60e9-a790-4cbf-9873-16ae50b7cd76",
   "metadata": {},
   "outputs": [
    {
     "data": {
      "image/png": "[encoded data removed]",
      "text/plain": [
       "<Figure size 1000x600 with 1 Axes>"
      ]
     },
     "metadata": {},
     "output_type": "display_data"
    }
   ],
   "source": [
    "# Sample mean of coastal\n",
    "coastal_mean = coastal_prices.mean()\n",
    "\n",
    "# Bootstrap simulation to create sampling distribution of the mean under H0\n",
    "np.random.seed(0)\n",
    "bootstrap_means = []\n",
    "for _ in range(10000):\n",
    "    sample = np.random.choice(df1['median_house_value'], size=len(coastal_prices), replace=True)\n",
    "    bootstrap_means.append(sample.mean())\n",
    "bootstrap_means = np.array(bootstrap_means)\n",
    "\n",
    "# Plot only the KDE curve with filled area (no histogram)\n",
    "plt.figure(figsize=(10,6))\n",
    "sns.kdeplot(bootstrap_means, fill=True, color='grey', linewidth=1)\n",
    "\n",
    "# Add vertical lines for overall mean and coastal sample mean\n",
    "plt.axvline(overall_mean, color='black', linestyle='--', label='Overall Mean (H₀)')\n",
    "plt.axvline(coastal_mean, color='red', linestyle='-', label='Coastal Sample Mean')\n",
    "\n",
    "# Labels and legend\n",
    "plt.title('Sampling Distribution of the Mean (H₀) with Coastal Sample Mean')\n",
    "plt.xlabel('Sample Mean')\n",
    "plt.ylabel('Density')\n",
    "plt.legend()\n",
    "plt.show()\n"
   ]
  },
  {
   "cell_type": "code",
   "execution_count": 10,
   "id": "305cb138-f7f9-42f5-b127-2e23a9cca37e",
   "metadata": {},
   "outputs": [
    {
     "data": {
      "image/png": "[encoded data removed]",
      "text/plain": [
       "<Figure size 800x200 with 1 Axes>"
      ]
     },
     "metadata": {},
     "output_type": "display_data"
    }
   ],
   "source": [
    "# Sample mean of coastal\n",
    "coastal_mean = coastal_prices.mean()\n",
    "\n",
    "# Bootstrap simulation to create sampling distribution of the mean under H0\n",
    "np.random.seed(0)\n",
    "bootstrap_means = []\n",
    "for _ in range(10000):\n",
    "    sample = np.random.choice(df1['median_house_value'], size=len(coastal_prices), replace=True)\n",
    "    bootstrap_means.append(sample.mean())\n",
    "bootstrap_means = np.array(bootstrap_means)\n",
    "\n",
    "# Plot (only the KDE curve)\n",
    "plt.figure(figsize=(8,2))\n",
    "sns.kdeplot(bootstrap_means, fill=True, color='Grey', linewidth=1)\n",
    "\n",
    "# Add vertical lines for overall mean and coastal sample mean\n",
    "plt.axvline(overall_mean, color='#004aad', linestyle='--', label='Overall Mean (H₀)')\n",
    "plt.axvline(coastal_mean, color='red', linestyle='-', label='Coastal Sample Mean')\n",
    "\n",
    "# Labels and legend\n",
    "plt.ylabel('')\n",
    "plt.yticks([])  # Hide Y-axis numbers\n",
    "plt.xticks([])\n",
    "\n",
    "# Format X-axis ticks in 'k' (thousands)\n",
    "formatter = ticker.FuncFormatter(lambda x, _: f'{int(x/1000)}k')\n",
    "plt.gca().xaxis.set_major_formatter(formatter)\n",
    "\n",
    "plt.show()\n"
   ]
  },
  {
   "cell_type": "markdown",
   "id": "e2db5945-1b1e-4abb-bb81-23fa5653bd76",
   "metadata": {
    "jp-MarkdownHeadingCollapsed": true
   },
   "source": [
    "### 2 Sample T-Test"
   ]
  },
  {
   "cell_type": "code",
   "execution_count": 11,
   "id": "f7f7e4c3-650c-4083-a290-9982fb78458b",
   "metadata": {},
   "outputs": [
    {
     "name": "stdout",
     "output_type": "stream",
     "text": [
      "T-statistic: 90.284\n",
      "P-value: 0.000\n"
     ]
    }
   ],
   "source": [
    "# Get the two samples\n",
    "coastal = df1[df1['region'] == 'coastal']['median_house_value']\n",
    "inland = df1[df1['region'] == 'inland']['median_house_value']\n",
    "\n",
    "# Perform the two-sample t-test\n",
    "t_stat, p_value = stats.ttest_ind(coastal, inland, equal_var=False)  # Welch’s t-test recommended\n",
    "\n",
    "# Output results\n",
    "print(f\"T-statistic: {t_stat:.3f}\")\n",
    "print(f\"P-value: {p_value:.3f}\")\n"
   ]
  },
  {
   "cell_type": "code",
   "execution_count": 12,
   "id": "efb569ca-4698-4a20-b3a1-d60b3a8ebe05",
   "metadata": {},
   "outputs": [
    {
     "data": {
      "text/plain": [
       "101728.3248885779"
      ]
     },
     "execution_count": 12,
     "metadata": {},
     "output_type": "execute_result"
    }
   ],
   "source": [
    "coastal.mean() - inland.mean()"
   ]
  },
  {
   "cell_type": "code",
   "execution_count": 13,
   "id": "1640df87-8f68-4a44-8aef-9c3168651b3f",
   "metadata": {},
   "outputs": [
    {
     "data": {
      "image/png": "[encoded data removed]",
      "text/plain": [
       "<Figure size 700x300 with 1 Axes>"
      ]
     },
     "metadata": {},
     "output_type": "display_data"
    }
   ],
   "source": [
    "# Two groups\n",
    "coastal = df1[df1['region'] == 'coastal']['median_house_value']\n",
    "inland = df1[df1['region'] == 'inland']['median_house_value']\n",
    "\n",
    "# Observed difference\n",
    "observed_diff = coastal.mean() - inland.mean()\n",
    "\n",
    "# Bootstrap sampling distribution of difference in means\n",
    "np.random.seed(0)\n",
    "bootstrap_diffs = []\n",
    "for _ in range(10000):\n",
    "    coastal_sample = np.random.choice(coastal, size=len(coastal), replace=True)\n",
    "    inland_sample = np.random.choice(inland, size=len(inland), replace=True)\n",
    "    diff = coastal_sample.mean() - inland_sample.mean()\n",
    "    bootstrap_diffs.append(diff)\n",
    "bootstrap_diffs = np.array(bootstrap_diffs)\n",
    "\n",
    "# Shift bootstrap distribution to be centered at zero (null hypothesis)\n",
    "null_dist = bootstrap_diffs - observed_diff\n",
    "\n",
    "# Plot\n",
    "plt.figure(figsize=(7, 3))\n",
    "sns.kdeplot(null_dist, fill=True, color='grey', linewidth=1)\n",
    "\n",
    "# Mark observed difference\n",
    "plt.axvline(0, color='#004aad', linestyle='--', label='Null Hypothesis (0)')\n",
    "plt.axvline(observed_diff, color='#7A2917', linestyle='-', linewidth=2, label='Observed Mean Difference')\n",
    "\n",
    "# Format x-axis with 'k'\n",
    "formatter = ticker.FuncFormatter(lambda x, _: f'{int(x/1000)}k')\n",
    "plt.gca().xaxis.set_major_formatter(formatter)\n",
    "\n",
    "# Label\n",
    "plt.ylabel('')\n",
    "plt.yticks([])\n",
    "\n",
    "plt.show()\n"
   ]
  }
 ],
 "metadata": {
  "kernelspec": {
   "display_name": "Python 3 (ipykernel)",
   "language": "python",
   "name": "python3"
  },
  "language_info": {
   "codemirror_mode": {
    "name": "ipython",
    "version": 3
   },
   "file_extension": ".py",
   "mimetype": "text/x-python",
   "name": "python",
   "nbconvert_exporter": "python",
   "pygments_lexer": "ipython3",
   "version": "3.12.7"
  }
 },
 "nbformat": 4,
 "nbformat_minor": 5
}
